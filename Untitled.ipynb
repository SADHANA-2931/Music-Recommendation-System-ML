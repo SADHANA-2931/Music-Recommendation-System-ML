{
 "cells": [
  {
   "cell_type": "code",
   "execution_count": 5,
   "id": "0bd68ab7-0b7c-4990-b7e8-3cf9c92d4e63",
   "metadata": {},
   "outputs": [
    {
     "name": "stderr",
     "output_type": "stream",
     "text": [
      "\n",
      "[notice] A new release of pip is available: 25.0.1 -> 25.1.1\n",
      "[notice] To update, run: python.exe -m pip install --upgrade pip\n"
     ]
    }
   ],
   "source": [
    "!pip install kaggle -q"
   ]
  },
  {
   "cell_type": "code",
   "execution_count": 8,
   "id": "c31cd248-e6cd-4cfb-9e4d-091348e6d6c5",
   "metadata": {},
   "outputs": [
    {
     "name": "stdout",
     "output_type": "stream",
     "text": [
      "Requirement already satisfied: wordcloud in c:\\users\\navyashree r\\appdata\\local\\programs\\python\\python39\\lib\\site-packages (1.9.4)\n",
      "Requirement already satisfied: numpy>=1.6.1 in c:\\users\\navyashree r\\appdata\\local\\programs\\python\\python39\\lib\\site-packages (from wordcloud) (2.0.2)\n",
      "Requirement already satisfied: pillow in c:\\users\\navyashree r\\appdata\\local\\programs\\python\\python39\\lib\\site-packages (from wordcloud) (11.0.0)\n",
      "Requirement already satisfied: matplotlib in c:\\users\\navyashree r\\appdata\\local\\programs\\python\\python39\\lib\\site-packages (from wordcloud) (3.9.4)\n",
      "Requirement already satisfied: contourpy>=1.0.1 in c:\\users\\navyashree r\\appdata\\local\\programs\\python\\python39\\lib\\site-packages (from matplotlib->wordcloud) (1.3.0)\n",
      "Requirement already satisfied: cycler>=0.10 in c:\\users\\navyashree r\\appdata\\local\\programs\\python\\python39\\lib\\site-packages (from matplotlib->wordcloud) (0.12.1)\n",
      "Requirement already satisfied: fonttools>=4.22.0 in c:\\users\\navyashree r\\appdata\\local\\programs\\python\\python39\\lib\\site-packages (from matplotlib->wordcloud) (4.57.0)\n",
      "Requirement already satisfied: kiwisolver>=1.3.1 in c:\\users\\navyashree r\\appdata\\local\\programs\\python\\python39\\lib\\site-packages (from matplotlib->wordcloud) (1.4.7)\n",
      "Requirement already satisfied: packaging>=20.0 in c:\\users\\navyashree r\\appdata\\local\\programs\\python\\python39\\lib\\site-packages (from matplotlib->wordcloud) (24.2)\n",
      "Requirement already satisfied: pyparsing>=2.3.1 in c:\\users\\navyashree r\\appdata\\local\\programs\\python\\python39\\lib\\site-packages (from matplotlib->wordcloud) (3.2.3)\n",
      "Requirement already satisfied: python-dateutil>=2.7 in c:\\users\\navyashree r\\appdata\\local\\programs\\python\\python39\\lib\\site-packages (from matplotlib->wordcloud) (2.9.0.post0)\n",
      "Requirement already satisfied: importlib-resources>=3.2.0 in c:\\users\\navyashree r\\appdata\\local\\programs\\python\\python39\\lib\\site-packages (from matplotlib->wordcloud) (6.5.2)\n",
      "Requirement already satisfied: zipp>=3.1.0 in c:\\users\\navyashree r\\appdata\\local\\programs\\python\\python39\\lib\\site-packages (from importlib-resources>=3.2.0->matplotlib->wordcloud) (3.21.0)\n",
      "Requirement already satisfied: six>=1.5 in c:\\users\\navyashree r\\appdata\\local\\programs\\python\\python39\\lib\\site-packages (from python-dateutil>=2.7->matplotlib->wordcloud) (1.16.0)\n",
      "Note: you may need to restart the kernel to use updated packages.\n"
     ]
    },
    {
     "name": "stderr",
     "output_type": "stream",
     "text": [
      "\n",
      "[notice] A new release of pip is available: 25.0.1 -> 25.1.1\n",
      "[notice] To update, run: python.exe -m pip install --upgrade pip\n"
     ]
    }
   ],
   "source": [
    "pip install wordcloud\n"
   ]
  },
  {
   "cell_type": "code",
   "execution_count": 11,
   "id": "fe568fbe-16c0-4b8d-a6c6-430b3496e555",
   "metadata": {},
   "outputs": [
    {
     "name": "stdout",
     "output_type": "stream",
     "text": [
      "Requirement already satisfied: pip in c:\\users\\navyashree r\\appdata\\local\\programs\\python\\python39\\lib\\site-packages (25.1.1)\n"
     ]
    }
   ],
   "source": [
    "!python -m pip install --upgrade pip"
   ]
  },
  {
   "cell_type": "code",
   "execution_count": 12,
   "id": "63325e6e-09df-42d9-beec-1002bf1b09ca",
   "metadata": {},
   "outputs": [],
   "source": [
    "import os\n",
    "import json\n",
    "\n",
    "import zipfile\n",
    "import numpy as np\n",
    "import pandas as pd\n",
    "import matplotlib.pyplot as plt\n",
    "from sklearn.feature_extraction.text import TfidfVectorizer\n",
    "from sklearn.metrics.pairwise import cosine_similarity\n",
    "from wordcloud import WordCloud\n",
    "import re\n",
    "import nltk\n",
    "from nltk.corpus import stopwords\n",
    "from nltk.tokenize import word_tokenize"
   ]
  },
  {
   "cell_type": "code",
   "execution_count": 15,
   "id": "d3d1de3d-5f78-4aa5-b2e2-7922a0b770e6",
   "metadata": {},
   "outputs": [],
   "source": [
    "kaggle_config = json.load(open(r\"C:\\Users\\Navyashree R\\Downloads\\kaggle.json\"))"
   ]
  },
  {
   "cell_type": "code",
   "execution_count": 16,
   "id": "504f9048-232c-4dcf-9886-b1d060759dbe",
   "metadata": {},
   "outputs": [
    {
     "data": {
      "text/plain": [
       "dict_keys(['username', 'key'])"
      ]
     },
     "execution_count": 16,
     "metadata": {},
     "output_type": "execute_result"
    }
   ],
   "source": [
    "kaggle_config.keys()"
   ]
  },
  {
   "cell_type": "code",
   "execution_count": 17,
   "id": "52191c52-3286-49e3-ba70-eb2257765676",
   "metadata": {},
   "outputs": [],
   "source": [
    "os.environ['KAGGLE_USERNAME'] = kaggle_config['username']\n",
    "os.environ['KAGGLE_KEY'] = kaggle_config['key']"
   ]
  },
  {
   "cell_type": "code",
   "execution_count": 21,
   "id": "c1a11b34-d52f-4acc-a0b9-3666fb828876",
   "metadata": {},
   "outputs": [],
   "source": [
    "df = pd.read_csv(r\"C:/Users/Navyashree R/Downloads/indian_singers_top_tracks_spotify.csv\")\n"
   ]
  },
  {
   "cell_type": "code",
   "execution_count": 22,
   "id": "01e3793c-eb30-47ff-847a-886a38eec2a9",
   "metadata": {},
   "outputs": [
    {
     "data": {
      "text/plain": [
       "(97, 11)"
      ]
     },
     "execution_count": 22,
     "metadata": {},
     "output_type": "execute_result"
    }
   ],
   "source": [
    "df.shape"
   ]
  },
  {
   "cell_type": "code",
   "execution_count": 23,
   "id": "861839f9-218d-4c7f-af86-76dcf4516f2a",
   "metadata": {},
   "outputs": [
    {
     "data": {
      "text/html": [
       "<div>\n",
       "<style scoped>\n",
       "    .dataframe tbody tr th:only-of-type {\n",
       "        vertical-align: middle;\n",
       "    }\n",
       "\n",
       "    .dataframe tbody tr th {\n",
       "        vertical-align: top;\n",
       "    }\n",
       "\n",
       "    .dataframe thead th {\n",
       "        text-align: right;\n",
       "    }\n",
       "</style>\n",
       "<table border=\"1\" class=\"dataframe\">\n",
       "  <thead>\n",
       "    <tr style=\"text-align: right;\">\n",
       "      <th></th>\n",
       "      <th>Singer Name</th>\n",
       "      <th>Song Name 1</th>\n",
       "      <th>Song Name 2</th>\n",
       "      <th>Song Name 3</th>\n",
       "      <th>Song Name 4</th>\n",
       "      <th>Song Name 5</th>\n",
       "      <th>Song Name 6</th>\n",
       "      <th>Song Name 7</th>\n",
       "      <th>Song Name 8</th>\n",
       "      <th>Song Name 9</th>\n",
       "      <th>Song Name 10</th>\n",
       "    </tr>\n",
       "  </thead>\n",
       "  <tbody>\n",
       "    <tr>\n",
       "      <th>0</th>\n",
       "      <td>Vishal Mishra</td>\n",
       "      <td>1.Kaise Hua (From \"Kabir Singh\")</td>\n",
       "      <td>2.Manjha</td>\n",
       "      <td>3.Pehla Pyaar</td>\n",
       "      <td>4.Zihaal e Miskin</td>\n",
       "      <td>5.Naacho Naacho (From \"Rrr\")</td>\n",
       "      <td>6.Naseeb Se (From \"Satyaprem Ki Katha\")</td>\n",
       "      <td>7.Naacho Naacho (From \"Rrr\")</td>\n",
       "      <td>8.Aaj Bhi</td>\n",
       "      <td>9.Nai Lagda (From \"Notebook\")</td>\n",
       "      <td>10.Soniye Je (From \"Gumraah\")</td>\n",
       "    </tr>\n",
       "    <tr>\n",
       "      <th>1</th>\n",
       "      <td>Arijit Singh</td>\n",
       "      <td>1.Kesariya</td>\n",
       "      <td>2.Phir Aur Kya Chahiye (From \"Zara Hatke Zara ...</td>\n",
       "      <td>3.O Bedardeya (From \"Tu Jhoothi Main Makkaar\")</td>\n",
       "      <td>4.Tere Pyaar Mein</td>\n",
       "      <td>5.Agar Tum Saath Ho (From \"Tamasha\")</td>\n",
       "      <td>6.Jhoome Jo Pathaan</td>\n",
       "      <td>7.Pyaar Hota Kayi Baar Hai (From \"Tu Jhoothi M...</td>\n",
       "      <td>8.Tujhe Kitna Chahne Lage (From \"Kabir Singh\")</td>\n",
       "      <td>9.Tere Hawaale (From \"Laal Singh Chaddha\")</td>\n",
       "      <td>10.Shayad</td>\n",
       "    </tr>\n",
       "    <tr>\n",
       "      <th>2</th>\n",
       "      <td>Kumar Sanu</td>\n",
       "      <td>1.Chura Ke Dil Mera (From \"Main Khiladi Tu Ana...</td>\n",
       "      <td>2.Tumsa Koi Pyaara</td>\n",
       "      <td>3.Ae Kash Ke Hum</td>\n",
       "      <td>4.Sochenge Tumhe Pyar (From \"Deewana\")</td>\n",
       "      <td>5.Ek Din Aap (From \"Yes Boss\")</td>\n",
       "      <td>6.Ladki Badi Anjani Hai</td>\n",
       "      <td>7.Tujhe Dekha To</td>\n",
       "      <td>8.Dheere Dheere Se Meri Zindagi Mein Aana (Fro...</td>\n",
       "      <td>9.Mera Dil Bhi Kitna Pagal Hai (From \"Saajan\")</td>\n",
       "      <td>10.Aankh Marey (From \"Simmba\")</td>\n",
       "    </tr>\n",
       "    <tr>\n",
       "      <th>3</th>\n",
       "      <td>A. R. Reihana</td>\n",
       "      <td>1.Ponni Nadhi</td>\n",
       "      <td>2.Saarattu Vandiyila (From \"Kaatru Veliyidai\")</td>\n",
       "      <td>3.Ponge Nadhi [From \"PS-1 (Telugu)\"]</td>\n",
       "      <td>4.Kedakkari</td>\n",
       "      <td>5.Ya Nabi Salam Alaika</td>\n",
       "      <td>6.Karma Veeran</td>\n",
       "      <td>7.Morethukochindhi</td>\n",
       "      <td>8.Ponni Nadhi</td>\n",
       "      <td>9.Hey Magic Maname Title Track</td>\n",
       "      <td>10.Ponni Nadhi [From “PS-1 (Malayalam)”]</td>\n",
       "    </tr>\n",
       "    <tr>\n",
       "      <th>4</th>\n",
       "      <td>Aarti Mukherji</td>\n",
       "      <td>1.Do Naina Aur Ek Kahani</td>\n",
       "      <td>2.Shyam Teri Bansi Pukare</td>\n",
       "      <td>3.Takhon Tomar Ekush Bachhar</td>\n",
       "      <td>4.Ek Baishakhe Dekha Holo Dujanay</td>\n",
       "      <td>5.Ei Mom Jochhonay Ango Bhijiye Eso Na</td>\n",
       "      <td>6.Aji Thahro Zara Dekho</td>\n",
       "      <td>7.Aaj Ki Raat Charangon</td>\n",
       "      <td>8.Katha Kichhu Kichhu Bujhe Nite Hoy</td>\n",
       "      <td>9.Main Wohi Darpan Wohi</td>\n",
       "      <td>10.Laje Ranga Holo Kone Bou Go</td>\n",
       "    </tr>\n",
       "  </tbody>\n",
       "</table>\n",
       "</div>"
      ],
      "text/plain": [
       "      Singer Name                                        Song Name 1  \\\n",
       "0   Vishal Mishra                   1.Kaise Hua (From \"Kabir Singh\")   \n",
       "1    Arijit Singh                                         1.Kesariya   \n",
       "2      Kumar Sanu  1.Chura Ke Dil Mera (From \"Main Khiladi Tu Ana...   \n",
       "3   A. R. Reihana                                      1.Ponni Nadhi   \n",
       "4  Aarti Mukherji                           1.Do Naina Aur Ek Kahani   \n",
       "\n",
       "                                         Song Name 2  \\\n",
       "0                                           2.Manjha   \n",
       "1  2.Phir Aur Kya Chahiye (From \"Zara Hatke Zara ...   \n",
       "2                                 2.Tumsa Koi Pyaara   \n",
       "3     2.Saarattu Vandiyila (From \"Kaatru Veliyidai\")   \n",
       "4                          2.Shyam Teri Bansi Pukare   \n",
       "\n",
       "                                      Song Name 3  \\\n",
       "0                                   3.Pehla Pyaar   \n",
       "1  3.O Bedardeya (From \"Tu Jhoothi Main Makkaar\")   \n",
       "2                                3.Ae Kash Ke Hum   \n",
       "3            3.Ponge Nadhi [From \"PS-1 (Telugu)\"]   \n",
       "4                    3.Takhon Tomar Ekush Bachhar   \n",
       "\n",
       "                              Song Name 4  \\\n",
       "0                       4.Zihaal e Miskin   \n",
       "1                       4.Tere Pyaar Mein   \n",
       "2  4.Sochenge Tumhe Pyar (From \"Deewana\")   \n",
       "3                             4.Kedakkari   \n",
       "4       4.Ek Baishakhe Dekha Holo Dujanay   \n",
       "\n",
       "                              Song Name 5  \\\n",
       "0            5.Naacho Naacho (From \"Rrr\")   \n",
       "1    5.Agar Tum Saath Ho (From \"Tamasha\")   \n",
       "2          5.Ek Din Aap (From \"Yes Boss\")   \n",
       "3                  5.Ya Nabi Salam Alaika   \n",
       "4  5.Ei Mom Jochhonay Ango Bhijiye Eso Na   \n",
       "\n",
       "                               Song Name 6  \\\n",
       "0  6.Naseeb Se (From \"Satyaprem Ki Katha\")   \n",
       "1                      6.Jhoome Jo Pathaan   \n",
       "2                  6.Ladki Badi Anjani Hai   \n",
       "3                           6.Karma Veeran   \n",
       "4                  6.Aji Thahro Zara Dekho   \n",
       "\n",
       "                                         Song Name 7  \\\n",
       "0                       7.Naacho Naacho (From \"Rrr\")   \n",
       "1  7.Pyaar Hota Kayi Baar Hai (From \"Tu Jhoothi M...   \n",
       "2                                   7.Tujhe Dekha To   \n",
       "3                                 7.Morethukochindhi   \n",
       "4                            7.Aaj Ki Raat Charangon   \n",
       "\n",
       "                                         Song Name 8  \\\n",
       "0                                          8.Aaj Bhi   \n",
       "1     8.Tujhe Kitna Chahne Lage (From \"Kabir Singh\")   \n",
       "2  8.Dheere Dheere Se Meri Zindagi Mein Aana (Fro...   \n",
       "3                                      8.Ponni Nadhi   \n",
       "4               8.Katha Kichhu Kichhu Bujhe Nite Hoy   \n",
       "\n",
       "                                      Song Name 9  \\\n",
       "0                   9.Nai Lagda (From \"Notebook\")   \n",
       "1      9.Tere Hawaale (From \"Laal Singh Chaddha\")   \n",
       "2  9.Mera Dil Bhi Kitna Pagal Hai (From \"Saajan\")   \n",
       "3                  9.Hey Magic Maname Title Track   \n",
       "4                         9.Main Wohi Darpan Wohi   \n",
       "\n",
       "                               Song Name 10  \n",
       "0             10.Soniye Je (From \"Gumraah\")  \n",
       "1                                 10.Shayad  \n",
       "2            10.Aankh Marey (From \"Simmba\")  \n",
       "3  10.Ponni Nadhi [From “PS-1 (Malayalam)”]  \n",
       "4            10.Laje Ranga Holo Kone Bou Go  "
      ]
     },
     "execution_count": 23,
     "metadata": {},
     "output_type": "execute_result"
    }
   ],
   "source": [
    "df.head()"
   ]
  },
  {
   "cell_type": "code",
   "execution_count": 24,
   "id": "2d5f5577-18ca-4e5e-ad62-7890e178225c",
   "metadata": {},
   "outputs": [
    {
     "name": "stdout",
     "output_type": "stream",
     "text": [
      "<class 'pandas.core.frame.DataFrame'>\n",
      "RangeIndex: 97 entries, 0 to 96\n",
      "Data columns (total 11 columns):\n",
      " #   Column        Non-Null Count  Dtype \n",
      "---  ------        --------------  ----- \n",
      " 0   Singer Name   97 non-null     object\n",
      " 1   Song Name 1   97 non-null     object\n",
      " 2   Song Name 2   97 non-null     object\n",
      " 3   Song Name 3   97 non-null     object\n",
      " 4   Song Name 4   97 non-null     object\n",
      " 5   Song Name 5   97 non-null     object\n",
      " 6   Song Name 6   97 non-null     object\n",
      " 7   Song Name 7   97 non-null     object\n",
      " 8   Song Name 8   97 non-null     object\n",
      " 9   Song Name 9   97 non-null     object\n",
      " 10  Song Name 10  97 non-null     object\n",
      "dtypes: object(11)\n",
      "memory usage: 8.5+ KB\n"
     ]
    }
   ],
   "source": [
    "df.info()"
   ]
  },
  {
   "cell_type": "code",
   "execution_count": 25,
   "id": "ed4a8198-5c29-46cf-9cc6-0f0902805061",
   "metadata": {},
   "outputs": [
    {
     "data": {
      "text/plain": [
       "Singer Name     0\n",
       "Song Name 1     0\n",
       "Song Name 2     0\n",
       "Song Name 3     0\n",
       "Song Name 4     0\n",
       "Song Name 5     0\n",
       "Song Name 6     0\n",
       "Song Name 7     0\n",
       "Song Name 8     0\n",
       "Song Name 9     0\n",
       "Song Name 10    0\n",
       "dtype: int64"
      ]
     },
     "execution_count": 25,
     "metadata": {},
     "output_type": "execute_result"
    }
   ],
   "source": [
    "df.isnull().sum()"
   ]
  },
  {
   "cell_type": "code",
   "execution_count": 29,
   "id": "22dd07a5-0564-4022-a299-3205a8056916",
   "metadata": {},
   "outputs": [
    {
     "name": "stdout",
     "output_type": "stream",
     "text": [
      "\n",
      "Top Artists:\n",
      "Singer Name\n",
      "Vishal Mishra        1\n",
      "Arijit Singh         1\n",
      "Kumar Sanu           1\n",
      "A. R. Reihana        1\n",
      "Aarti Mukherji       1\n",
      "Akriti Kakar         1\n",
      "Alisha Chinai        1\n",
      "Alka Ajith           1\n",
      "Alka Yagnik          1\n",
      "Amirbai Karnataki    1\n",
      "Name: count, dtype: int64\n"
     ]
    }
   ],
   "source": [
    "Singer = df['Singer Name'].value_counts().head(10)\n",
    "print(\"\\nTop Artists:\")\n",
    "print(Singer)"
   ]
  },
  {
   "cell_type": "code",
   "execution_count": 38,
   "id": "b6b4c0bf-2466-429d-9ff3-a8be3bcde1b8",
   "metadata": {},
   "outputs": [
    {
     "ename": "ModuleNotFoundError",
     "evalue": "No module named 'fuzzywuzzy'",
     "output_type": "error",
     "traceback": [
      "\u001b[1;31m---------------------------------------------------------------------------\u001b[0m",
      "\u001b[1;31mModuleNotFoundError\u001b[0m                       Traceback (most recent call last)",
      "Cell \u001b[1;32mIn[38], line 2\u001b[0m\n\u001b[0;32m      1\u001b[0m \u001b[38;5;28;01mimport\u001b[39;00m \u001b[38;5;21;01mpandas\u001b[39;00m \u001b[38;5;28;01mas\u001b[39;00m \u001b[38;5;21;01mpd\u001b[39;00m\n\u001b[1;32m----> 2\u001b[0m \u001b[38;5;28;01mfrom\u001b[39;00m \u001b[38;5;21;01mfuzzywuzzy\u001b[39;00m \u001b[38;5;28;01mimport\u001b[39;00m process\n\u001b[0;32m      4\u001b[0m \u001b[38;5;66;03m# Load and flatten dataset\u001b[39;00m\n\u001b[0;32m      5\u001b[0m df \u001b[38;5;241m=\u001b[39m pd\u001b[38;5;241m.\u001b[39mread_csv(\u001b[38;5;124mr\u001b[39m\u001b[38;5;124m\"\u001b[39m\u001b[38;5;124mC:/Users/Navyashree R/Downloads/indian_singers_top_tracks_spotify.csv\u001b[39m\u001b[38;5;124m\"\u001b[39m)\n",
      "\u001b[1;31mModuleNotFoundError\u001b[0m: No module named 'fuzzywuzzy'"
     ]
    }
   ],
   "source": [
    "import pandas as pd\n",
    "from fuzzywuzzy import process\n",
    "\n",
    "# Load and flatten dataset\n",
    "df = pd.read_csv(r\"C:/Users/Navyashree R/Downloads/indian_singers_top_tracks_spotify.csv\")\n",
    "\n",
    "df = pd.melt(\n",
    "    df,\n",
    "    id_vars=['Singer Name'],\n",
    "    value_vars=[col for col in df.columns if col.startswith('Song Name')],\n",
    "    var_name='Rank',\n",
    "    value_name='Song Name'\n",
    ")\n",
    "\n",
    "# Clean up song names\n",
    "df['Song Name'] = df['Song Name'].str.replace(r'^\\d+\\.', '', regex=True).str.strip()\n",
    "\n",
    "# Function to return 5 songs even with typos\n",
    "def get_top_5_songs_for_user_input(user_input):\n",
    "    artist_list = df['Singer Name'].dropna().unique().tolist()\n",
    "    match, score = process.extractOne(user_input, artist_list)\n",
    "    \n",
    "    if score >= 75:  # Acceptable fuzzy match\n",
    "        print(f\"\\nShowing songs for: {match} (matched with score: {score})\")\n",
    "        songs = df[df['Singer Name'] == match]['Song Name'].dropna().unique().tolist()\n",
    "        return songs[:5]\n",
    "    else:\n",
    "        return f\"\\nNo close match found for '{user_input}'. Try again with a different name.\"\n",
    "\n",
    "# 🔄 Ask user for input (in script or terminal)\n",
    "user_input = input(\"Enter any singer's name: \")\n",
    "result = get_top_5_songs_for_user_input(user_input)\n",
    "\n",
    "# 🎵 Print the result\n",
    "if isinstance(result, list):\n",
    "    print(\"\\nTop 5 Songs:\")\n",
    "    for i, song in enumerate(result, 1):\n",
    "        print(f\"{i}. {song}\")\n",
    "else:\n",
    "    print(result)\n"
   ]
  },
  {
   "cell_type": "code",
   "execution_count": 39,
   "id": "6548c0e4-033f-4173-a102-7043734e921f",
   "metadata": {},
   "outputs": [
    {
     "name": "stdout",
     "output_type": "stream",
     "text": [
      "Collecting fuzzywuzzyNote: you may need to restart the kernel to use updated packages.\n",
      "\n",
      "  Downloading fuzzywuzzy-0.18.0-py2.py3-none-any.whl.metadata (4.9 kB)\n",
      "Collecting python-Levenshtein\n",
      "  Downloading python_levenshtein-0.27.1-py3-none-any.whl.metadata (3.7 kB)\n",
      "Collecting Levenshtein==0.27.1 (from python-Levenshtein)\n",
      "  Downloading levenshtein-0.27.1-cp39-cp39-win_amd64.whl.metadata (3.6 kB)\n",
      "Collecting rapidfuzz<4.0.0,>=3.9.0 (from Levenshtein==0.27.1->python-Levenshtein)\n",
      "  Downloading rapidfuzz-3.13.0-cp39-cp39-win_amd64.whl.metadata (12 kB)\n",
      "Downloading fuzzywuzzy-0.18.0-py2.py3-none-any.whl (18 kB)\n",
      "Downloading python_levenshtein-0.27.1-py3-none-any.whl (9.4 kB)\n",
      "Downloading levenshtein-0.27.1-cp39-cp39-win_amd64.whl (100 kB)\n",
      "Downloading rapidfuzz-3.13.0-cp39-cp39-win_amd64.whl (1.6 MB)\n",
      "   ---------------------------------------- 0.0/1.6 MB ? eta -:--:--\n",
      "   ------ --------------------------------- 0.3/1.6 MB ? eta -:--:--\n",
      "   ------------------- -------------------- 0.8/1.6 MB 2.4 MB/s eta 0:00:01\n",
      "   -------------------------------- ------- 1.3/1.6 MB 2.1 MB/s eta 0:00:01\n",
      "   ---------------------------------------- 1.6/1.6 MB 2.2 MB/s eta 0:00:00\n",
      "Installing collected packages: fuzzywuzzy, rapidfuzz, Levenshtein, python-Levenshtein\n",
      "\n",
      "   ---------- ----------------------------- 1/4 [rapidfuzz]\n",
      "   ---------- ----------------------------- 1/4 [rapidfuzz]\n",
      "   ---------------------------------------- 4/4 [python-Levenshtein]\n",
      "\n",
      "Successfully installed Levenshtein-0.27.1 fuzzywuzzy-0.18.0 python-Levenshtein-0.27.1 rapidfuzz-3.13.0\n"
     ]
    }
   ],
   "source": [
    "pip install fuzzywuzzy python-Levenshtein\n"
   ]
  },
  {
   "cell_type": "code",
   "execution_count": 40,
   "id": "6a3c70b2-cde0-48b2-abce-1ca78e838060",
   "metadata": {},
   "outputs": [
    {
     "name": "stdin",
     "output_type": "stream",
     "text": [
      "Enter any singer's name:  navya\n"
     ]
    },
    {
     "name": "stdout",
     "output_type": "stream",
     "text": [
      "\n",
      "No close match found for 'navya'. Try again with a different name.\n"
     ]
    }
   ],
   "source": [
    "import pandas as pd\n",
    "from fuzzywuzzy import process\n",
    "\n",
    "# Load and flatten dataset\n",
    "df = pd.read_csv(r\"C:/Users/Navyashree R/Downloads/indian_singers_top_tracks_spotify.csv\")\n",
    "\n",
    "df = pd.melt(\n",
    "    df,\n",
    "    id_vars=['Singer Name'],\n",
    "    value_vars=[col for col in df.columns if col.startswith('Song Name')],\n",
    "    var_name='Rank',\n",
    "    value_name='Song Name'\n",
    ")\n",
    "\n",
    "# Clean up song names\n",
    "df['Song Name'] = df['Song Name'].str.replace(r'^\\d+\\.', '', regex=True).str.strip()\n",
    "\n",
    "# Function to return 5 songs even with typos\n",
    "def get_top_5_songs_for_user_input(user_input):\n",
    "    artist_list = df['Singer Name'].dropna().unique().tolist()\n",
    "    match, score = process.extractOne(user_input, artist_list)\n",
    "    \n",
    "    if score >= 75:  # Acceptable fuzzy match\n",
    "        print(f\"\\nShowing songs for: {match} (matched with score: {score})\")\n",
    "        songs = df[df['Singer Name'] == match]['Song Name'].dropna().unique().tolist()\n",
    "        return songs[:5]\n",
    "    else:\n",
    "        return f\"\\nNo close match found for '{user_input}'. Try again with a different name.\"\n",
    "\n",
    "# 🔄 Ask user for input (in script or terminal)\n",
    "user_input = input(\"Enter any singer's name: \")\n",
    "result = get_top_5_songs_for_user_input(user_input)\n",
    "# 🎵 Print the result\n",
    "if isinstance(result, list):\n",
    "    print(\"\\nTop 5 Songs:\")\n",
    "    for i, song in enumerate(result, 1):\n",
    "        print(f\"{i}. {song}\")\n",
    "else:\n",
    "    print(result)"
   ]
  },
  {
   "cell_type": "code",
   "execution_count": 44,
   "id": "f1923b1f-9074-4616-9e53-ba8992523485",
   "metadata": {},
   "outputs": [
    {
     "name": "stdin",
     "output_type": "stream",
     "text": [
      "Enter any singer's name:  arijit\n"
     ]
    },
    {
     "name": "stdout",
     "output_type": "stream",
     "text": [
      "\n",
      "Showing songs for: Arijit Singh (matched with score: 90)\n",
      "\n",
      " arijit songs:\n",
      "1. Kesariya\n",
      "2. Phir Aur Kya Chahiye (From \"Zara Hatke Zara Bachke\")\n",
      "3. O Bedardeya (From \"Tu Jhoothi Main Makkaar\")\n",
      "4. Tere Pyaar Mein\n",
      "5. Agar Tum Saath Ho (From \"Tamasha\")\n"
     ]
    }
   ],
   "source": [
    "import pandas as pd\n",
    "from fuzzywuzzy import process\n",
    "\n",
    "# Load and flatten dataset\n",
    "df = pd.read_csv(r\"C:/Users/Navyashree R/Downloads/indian_singers_top_tracks_spotify.csv\")\n",
    "\n",
    "df = pd.melt(\n",
    "    df,\n",
    "    id_vars=['Singer Name'],\n",
    "    value_vars=[col for col in df.columns if col.startswith('Song Name')],\n",
    "    var_name='Rank',\n",
    "    value_name='Song Name'\n",
    ")\n",
    "\n",
    "# Clean up song names\n",
    "df['Song Name'] = df['Song Name'].str.replace(r'^\\d+\\.', '', regex=True).str.strip()\n",
    "\n",
    "# Function to return 5 songs even with typos\n",
    "def get_top_5_songs_for_user_input(user_input):\n",
    "    artist_list = df['Singer Name'].dropna().unique().tolist()\n",
    "    match, score = process.extractOne(user_input, artist_list)\n",
    "    \n",
    "    if score >= 75:  # Acceptable fuzzy match\n",
    "        print(f\"\\nShowing songs for: {match} (matched with score: {score})\")\n",
    "        songs = df[df['Singer Name'] == match]['Song Name'].dropna().unique().tolist()\n",
    "        return songs[:5]\n",
    "    else:\n",
    "        return f\"\\nNo close match found for '{user_input}'. Try again with a different name.\"\n",
    "\n",
    "# 🔄 Ask user for input (in script or terminal)\n",
    "user_input = input(\"Enter any singer's name: \")\n",
    "result = get_top_5_songs_for_user_input(user_input)\n",
    "# 🎵 Print the result\n",
    "if isinstance(result, list):\n",
    "    print(\"\\n\",user_input,\"songs:\")\n",
    "    for i, song in enumerate(result, 1):\n",
    "        print(f\"{i}. {song}\")\n",
    "else:\n",
    "    print(result)"
   ]
  },
  {
   "cell_type": "code",
   "execution_count": null,
   "id": "2e080725-9840-4423-944a-b697b27cf93d",
   "metadata": {},
   "outputs": [],
   "source": []
  }
 ],
 "metadata": {
  "kernelspec": {
   "display_name": "Python 3 (ipykernel)",
   "language": "python",
   "name": "python3"
  },
  "language_info": {
   "codemirror_mode": {
    "name": "ipython",
    "version": 3
   },
   "file_extension": ".py",
   "mimetype": "text/x-python",
   "name": "python",
   "nbconvert_exporter": "python",
   "pygments_lexer": "ipython3",
   "version": "3.9.10"
  }
 },
 "nbformat": 4,
 "nbformat_minor": 5
}
